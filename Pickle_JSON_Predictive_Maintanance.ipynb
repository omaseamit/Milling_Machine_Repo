{
 "cells": [
  {
   "cell_type": "markdown",
   "id": "34bb9ea9",
   "metadata": {},
   "source": [
    "## Pickle_JSON_Predictive_Maintanance"
   ]
  },
  {
   "cell_type": "code",
   "execution_count": 81,
   "id": "d2f2f296",
   "metadata": {},
   "outputs": [],
   "source": [
    "import pandas as pd\n",
    "import numpy as np\n",
    "from sklearn.svm import SVC\n",
    "import json\n",
    "import pickle\n",
    "from sklearn.model_selection import train_test_split, GridSearchCV, RandomizedSearchCV"
   ]
  },
  {
   "cell_type": "code",
   "execution_count": 73,
   "id": "b74830ab",
   "metadata": {},
   "outputs": [
    {
     "data": {
      "text/html": [
       "<div>\n",
       "<style scoped>\n",
       "    .dataframe tbody tr th:only-of-type {\n",
       "        vertical-align: middle;\n",
       "    }\n",
       "\n",
       "    .dataframe tbody tr th {\n",
       "        vertical-align: top;\n",
       "    }\n",
       "\n",
       "    .dataframe thead th {\n",
       "        text-align: right;\n",
       "    }\n",
       "</style>\n",
       "<table border=\"1\" class=\"dataframe\">\n",
       "  <thead>\n",
       "    <tr style=\"text-align: right;\">\n",
       "      <th></th>\n",
       "      <th>Unnamed: 0</th>\n",
       "      <th>Air temperature [K]</th>\n",
       "      <th>Process temperature [K]</th>\n",
       "      <th>Rotational speed [rpm]</th>\n",
       "      <th>Torque [Nm]</th>\n",
       "      <th>Tool wear [min]</th>\n",
       "      <th>Target</th>\n",
       "    </tr>\n",
       "  </thead>\n",
       "  <tbody>\n",
       "    <tr>\n",
       "      <th>0</th>\n",
       "      <td>0</td>\n",
       "      <td>-0.138729</td>\n",
       "      <td>1.840119</td>\n",
       "      <td>2.284786</td>\n",
       "      <td>-2.286933</td>\n",
       "      <td>-1.939836</td>\n",
       "      <td>0</td>\n",
       "    </tr>\n",
       "    <tr>\n",
       "      <th>1</th>\n",
       "      <td>1</td>\n",
       "      <td>1.690133</td>\n",
       "      <td>1.029933</td>\n",
       "      <td>2.284786</td>\n",
       "      <td>-2.043285</td>\n",
       "      <td>-1.939836</td>\n",
       "      <td>0</td>\n",
       "    </tr>\n",
       "    <tr>\n",
       "      <th>2</th>\n",
       "      <td>2</td>\n",
       "      <td>0.089879</td>\n",
       "      <td>-0.509419</td>\n",
       "      <td>2.062678</td>\n",
       "      <td>-1.857227</td>\n",
       "      <td>-1.939836</td>\n",
       "      <td>0</td>\n",
       "    </tr>\n",
       "    <tr>\n",
       "      <th>3</th>\n",
       "      <td>3</td>\n",
       "      <td>-1.338920</td>\n",
       "      <td>-1.643679</td>\n",
       "      <td>2.284786</td>\n",
       "      <td>-1.795207</td>\n",
       "      <td>-1.939836</td>\n",
       "      <td>0</td>\n",
       "    </tr>\n",
       "    <tr>\n",
       "      <th>4</th>\n",
       "      <td>4</td>\n",
       "      <td>0.261335</td>\n",
       "      <td>0.462803</td>\n",
       "      <td>1.063194</td>\n",
       "      <td>-1.485110</td>\n",
       "      <td>-1.939836</td>\n",
       "      <td>0</td>\n",
       "    </tr>\n",
       "  </tbody>\n",
       "</table>\n",
       "</div>"
      ],
      "text/plain": [
       "   Unnamed: 0  Air temperature [K]  Process temperature [K]  \\\n",
       "0           0            -0.138729                 1.840119   \n",
       "1           1             1.690133                 1.029933   \n",
       "2           2             0.089879                -0.509419   \n",
       "3           3            -1.338920                -1.643679   \n",
       "4           4             0.261335                 0.462803   \n",
       "\n",
       "   Rotational speed [rpm]  Torque [Nm]  Tool wear [min]  Target  \n",
       "0                2.284786    -2.286933        -1.939836       0  \n",
       "1                2.284786    -2.043285        -1.939836       0  \n",
       "2                2.062678    -1.857227        -1.939836       0  \n",
       "3                2.284786    -1.795207        -1.939836       0  \n",
       "4                1.063194    -1.485110        -1.939836       0  "
      ]
     },
     "execution_count": 73,
     "metadata": {},
     "output_type": "execute_result"
    }
   ],
   "source": [
    "df = pd.read_csv('E:\\Velocity\\Predictive Main\\median_smote_standard.csv')\n",
    "df.head()"
   ]
  },
  {
   "cell_type": "code",
   "execution_count": 74,
   "id": "3224628a",
   "metadata": {},
   "outputs": [
    {
     "data": {
      "text/html": [
       "<div>\n",
       "<style scoped>\n",
       "    .dataframe tbody tr th:only-of-type {\n",
       "        vertical-align: middle;\n",
       "    }\n",
       "\n",
       "    .dataframe tbody tr th {\n",
       "        vertical-align: top;\n",
       "    }\n",
       "\n",
       "    .dataframe thead th {\n",
       "        text-align: right;\n",
       "    }\n",
       "</style>\n",
       "<table border=\"1\" class=\"dataframe\">\n",
       "  <thead>\n",
       "    <tr style=\"text-align: right;\">\n",
       "      <th></th>\n",
       "      <th>Air temperature [K]</th>\n",
       "      <th>Process temperature [K]</th>\n",
       "      <th>Rotational speed [rpm]</th>\n",
       "      <th>Torque [Nm]</th>\n",
       "      <th>Tool wear [min]</th>\n",
       "      <th>Target</th>\n",
       "    </tr>\n",
       "  </thead>\n",
       "  <tbody>\n",
       "    <tr>\n",
       "      <th>0</th>\n",
       "      <td>-0.138729</td>\n",
       "      <td>1.840119</td>\n",
       "      <td>2.284786</td>\n",
       "      <td>-2.286933</td>\n",
       "      <td>-1.939836</td>\n",
       "      <td>0</td>\n",
       "    </tr>\n",
       "    <tr>\n",
       "      <th>1</th>\n",
       "      <td>1.690133</td>\n",
       "      <td>1.029933</td>\n",
       "      <td>2.284786</td>\n",
       "      <td>-2.043285</td>\n",
       "      <td>-1.939836</td>\n",
       "      <td>0</td>\n",
       "    </tr>\n",
       "    <tr>\n",
       "      <th>2</th>\n",
       "      <td>0.089879</td>\n",
       "      <td>-0.509419</td>\n",
       "      <td>2.062678</td>\n",
       "      <td>-1.857227</td>\n",
       "      <td>-1.939836</td>\n",
       "      <td>0</td>\n",
       "    </tr>\n",
       "    <tr>\n",
       "      <th>3</th>\n",
       "      <td>-1.338920</td>\n",
       "      <td>-1.643679</td>\n",
       "      <td>2.284786</td>\n",
       "      <td>-1.795207</td>\n",
       "      <td>-1.939836</td>\n",
       "      <td>0</td>\n",
       "    </tr>\n",
       "    <tr>\n",
       "      <th>4</th>\n",
       "      <td>0.261335</td>\n",
       "      <td>0.462803</td>\n",
       "      <td>1.063194</td>\n",
       "      <td>-1.485110</td>\n",
       "      <td>-1.939836</td>\n",
       "      <td>0</td>\n",
       "    </tr>\n",
       "    <tr>\n",
       "      <th>...</th>\n",
       "      <td>...</td>\n",
       "      <td>...</td>\n",
       "      <td>...</td>\n",
       "      <td>...</td>\n",
       "      <td>...</td>\n",
       "      <td>...</td>\n",
       "    </tr>\n",
       "    <tr>\n",
       "      <th>19315</th>\n",
       "      <td>-0.416849</td>\n",
       "      <td>0.543822</td>\n",
       "      <td>-0.716619</td>\n",
       "      <td>0.801156</td>\n",
       "      <td>1.298823</td>\n",
       "      <td>1</td>\n",
       "    </tr>\n",
       "    <tr>\n",
       "      <th>19316</th>\n",
       "      <td>-0.766660</td>\n",
       "      <td>-0.179571</td>\n",
       "      <td>-1.814444</td>\n",
       "      <td>1.463888</td>\n",
       "      <td>1.122556</td>\n",
       "      <td>1</td>\n",
       "    </tr>\n",
       "    <tr>\n",
       "      <th>19317</th>\n",
       "      <td>0.709845</td>\n",
       "      <td>0.468856</td>\n",
       "      <td>-1.411720</td>\n",
       "      <td>1.505116</td>\n",
       "      <td>-0.652494</td>\n",
       "      <td>1</td>\n",
       "    </tr>\n",
       "    <tr>\n",
       "      <th>19318</th>\n",
       "      <td>1.552220</td>\n",
       "      <td>1.072760</td>\n",
       "      <td>-0.988032</td>\n",
       "      <td>1.104606</td>\n",
       "      <td>0.863471</td>\n",
       "      <td>1</td>\n",
       "    </tr>\n",
       "    <tr>\n",
       "      <th>19319</th>\n",
       "      <td>1.269838</td>\n",
       "      <td>0.585693</td>\n",
       "      <td>-0.836807</td>\n",
       "      <td>0.670347</td>\n",
       "      <td>-0.339756</td>\n",
       "      <td>1</td>\n",
       "    </tr>\n",
       "  </tbody>\n",
       "</table>\n",
       "<p>19320 rows × 6 columns</p>\n",
       "</div>"
      ],
      "text/plain": [
       "       Air temperature [K]  Process temperature [K]  Rotational speed [rpm]  \\\n",
       "0                -0.138729                 1.840119                2.284786   \n",
       "1                 1.690133                 1.029933                2.284786   \n",
       "2                 0.089879                -0.509419                2.062678   \n",
       "3                -1.338920                -1.643679                2.284786   \n",
       "4                 0.261335                 0.462803                1.063194   \n",
       "...                    ...                      ...                     ...   \n",
       "19315            -0.416849                 0.543822               -0.716619   \n",
       "19316            -0.766660                -0.179571               -1.814444   \n",
       "19317             0.709845                 0.468856               -1.411720   \n",
       "19318             1.552220                 1.072760               -0.988032   \n",
       "19319             1.269838                 0.585693               -0.836807   \n",
       "\n",
       "       Torque [Nm]  Tool wear [min]  Target  \n",
       "0        -2.286933        -1.939836       0  \n",
       "1        -2.043285        -1.939836       0  \n",
       "2        -1.857227        -1.939836       0  \n",
       "3        -1.795207        -1.939836       0  \n",
       "4        -1.485110        -1.939836       0  \n",
       "...            ...              ...     ...  \n",
       "19315     0.801156         1.298823       1  \n",
       "19316     1.463888         1.122556       1  \n",
       "19317     1.505116        -0.652494       1  \n",
       "19318     1.104606         0.863471       1  \n",
       "19319     0.670347        -0.339756       1  \n",
       "\n",
       "[19320 rows x 6 columns]"
      ]
     },
     "execution_count": 74,
     "metadata": {},
     "output_type": "execute_result"
    }
   ],
   "source": [
    "df.drop(['Unnamed: 0'],axis=1)"
   ]
  },
  {
   "cell_type": "code",
   "execution_count": 76,
   "id": "18796335",
   "metadata": {},
   "outputs": [],
   "source": [
    "df.rename(columns = {'Air temperature [K]':'Air_temperature','Process temperature [K]':'Process_temperature','Rotational speed [rpm]':'Rotational_speed','Torque [Nm]':'Torque','Tool wear [min]':'Tool_wear'}, inplace = True)"
   ]
  },
  {
   "cell_type": "code",
   "execution_count": 77,
   "id": "56a120ed",
   "metadata": {},
   "outputs": [
    {
     "name": "stdout",
     "output_type": "stream",
     "text": [
      "<class 'pandas.core.frame.DataFrame'>\n",
      "RangeIndex: 19320 entries, 0 to 19319\n",
      "Data columns (total 7 columns):\n",
      " #   Column               Non-Null Count  Dtype  \n",
      "---  ------               --------------  -----  \n",
      " 0   Unnamed: 0           19320 non-null  int64  \n",
      " 1   Air_temperature      19320 non-null  float64\n",
      " 2   Process_temperature  19320 non-null  float64\n",
      " 3   Rotational_speed     19320 non-null  float64\n",
      " 4   Torque               19320 non-null  float64\n",
      " 5   Tool_wear            19320 non-null  float64\n",
      " 6   Target               19320 non-null  int64  \n",
      "dtypes: float64(5), int64(2)\n",
      "memory usage: 1.0 MB\n"
     ]
    }
   ],
   "source": [
    "df.info()"
   ]
  },
  {
   "cell_type": "markdown",
   "id": "91fa11be",
   "metadata": {},
   "source": [
    "## Train Test Split"
   ]
  },
  {
   "cell_type": "code",
   "execution_count": 86,
   "id": "6683f353",
   "metadata": {},
   "outputs": [],
   "source": [
    "x = df.drop(['Target','Unnamed: 0'],axis = 1)\n",
    "y = df['Target']\n",
    "\n",
    "X_train, X_test, y_train, y_test = train_test_split(x, y, test_size=0.2, random_state=2)"
   ]
  },
  {
   "cell_type": "markdown",
   "id": "ce7d50c5",
   "metadata": {},
   "source": [
    "## Model Training"
   ]
  },
  {
   "cell_type": "code",
   "execution_count": 88,
   "id": "10f25d6d",
   "metadata": {},
   "outputs": [],
   "source": [
    "from sklearn.svm import SVC\n",
    "from sklearn.model_selection import train_test_split\n",
    "from sklearn import preprocessing\n",
    "\n",
    "\n",
    "svmmodel = SVC()\n",
    "svmmodel.fit(X_train,y_train)\n",
    "svmmodel_predictions = svmmodel.predict(X_test)"
   ]
  },
  {
   "cell_type": "code",
   "execution_count": 89,
   "id": "3ac45ab4",
   "metadata": {},
   "outputs": [],
   "source": [
    "param_grid = {'C':[0.1,1,100,1000],\n",
    "             'gamma':[1,0.1,0.01,0.001],\n",
    "             'kernel':['rbf']}"
   ]
  },
  {
   "cell_type": "code",
   "execution_count": 90,
   "id": "59d60da4",
   "metadata": {},
   "outputs": [],
   "source": [
    "rf_grid = RandomizedSearchCV(estimator=svmmodel, param_distributions=param_grid, cv=3, verbose=2, n_jobs=4)"
   ]
  },
  {
   "cell_type": "code",
   "execution_count": 91,
   "id": "e5c9268f",
   "metadata": {},
   "outputs": [
    {
     "name": "stdout",
     "output_type": "stream",
     "text": [
      "Fitting 3 folds for each of 10 candidates, totalling 30 fits\n"
     ]
    },
    {
     "data": {
      "text/plain": [
       "RandomizedSearchCV(cv=3, estimator=SVC(), n_jobs=4,\n",
       "                   param_distributions={'C': [0.1, 1, 100, 1000],\n",
       "                                        'gamma': [1, 0.1, 0.01, 0.001],\n",
       "                                        'kernel': ['rbf']},\n",
       "                   verbose=2)"
      ]
     },
     "execution_count": 91,
     "metadata": {},
     "output_type": "execute_result"
    }
   ],
   "source": [
    "rf_grid.fit(X_train, y_train)"
   ]
  },
  {
   "cell_type": "code",
   "execution_count": 39,
   "id": "b22d805a",
   "metadata": {},
   "outputs": [
    {
     "data": {
      "text/plain": [
       "{'columns': ['Air_temperature',\n",
       "  'Process_temperature',\n",
       "  'Rotational_speed',\n",
       "  'Torque',\n",
       "  'Tool_wear']}"
      ]
     },
     "execution_count": 39,
     "metadata": {},
     "output_type": "execute_result"
    }
   ],
   "source": [
    "project_data = {'columns': list(x.columns)}\n",
    "project_data"
   ]
  },
  {
   "cell_type": "code",
   "execution_count": 94,
   "id": "672aee0b",
   "metadata": {},
   "outputs": [],
   "source": [
    "with open('Linear_model.pkl', 'wb') as f:\n",
    "    pickle.dump(rf_grid, f)"
   ]
  },
  {
   "cell_type": "code",
   "execution_count": 95,
   "id": "e8f6d718",
   "metadata": {},
   "outputs": [],
   "source": [
    "with open('project_data.json', 'w') as f:\n",
    "    json.dump(project_data, f)"
   ]
  },
  {
   "cell_type": "code",
   "execution_count": null,
   "id": "c912c632",
   "metadata": {},
   "outputs": [],
   "source": []
  },
  {
   "cell_type": "code",
   "execution_count": null,
   "id": "1ac8cba1",
   "metadata": {},
   "outputs": [],
   "source": []
  }
 ],
 "metadata": {
  "kernelspec": {
   "display_name": "Python 3 (ipykernel)",
   "language": "python",
   "name": "python3"
  },
  "language_info": {
   "codemirror_mode": {
    "name": "ipython",
    "version": 3
   },
   "file_extension": ".py",
   "mimetype": "text/x-python",
   "name": "python",
   "nbconvert_exporter": "python",
   "pygments_lexer": "ipython3",
   "version": "3.9.16"
  }
 },
 "nbformat": 4,
 "nbformat_minor": 5
}
